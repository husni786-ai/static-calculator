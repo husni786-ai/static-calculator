{
 "cells": [
  {
   "cell_type": "code",
   "execution_count": 1,
   "id": "882c2c8a-6329-4e25-ba99-004fc26ac9cb",
   "metadata": {},
   "outputs": [
    {
     "name": "stdout",
     "output_type": "stream",
     "text": [
      "{'mean': [[3.0, 4.0, 5.0], [1.0, 4.0, 7.0], 4.0], 'variance': [[6.0, 6.0, 6.0], [0.6666666666666666, 0.6666666666666666, 0.6666666666666666], 6.666666666666667], 'standard deviation': [[2.449489742783178, 2.449489742783178, 2.449489742783178], [0.816496580927726, 0.816496580927726, 0.816496580927726], 2.581988897471611], 'max': [[6, 7, 8], [2, 5, 8], 8], 'min': [[0, 1, 2], [0, 3, 6], 0], 'sum': [[9, 12, 15], [3, 12, 21], 36]}\n"
     ]
    }
   ],
   "source": [
    "import numpy as np\n",
    "\n",
    "def calculate(lst):\n",
    "    if len(lst) < 9:\n",
    "        raise ValueError(\"List must contain nine numbers.\")\n",
    "    \n",
    "    # Convert the list to a 3x3 NumPy array\n",
    "    arr = np.array(lst).reshape(3, 3)\n",
    "    \n",
    "    # Calculate the mean\n",
    "    mean = [arr.mean(axis=0).tolist(), arr.mean(axis=1).tolist(), arr.mean()]\n",
    "    \n",
    "    # Calculate the variance\n",
    "    variance = [arr.var(axis=0).tolist(), arr.var(axis=1).tolist(), arr.var()]\n",
    "    \n",
    "    # Calculate the standard deviation\n",
    "    std_dev = [arr.std(axis=0).tolist(), arr.std(axis=1).tolist(), arr.std()]\n",
    "    \n",
    "    # Find the max values\n",
    "    max_val = [arr.max(axis=0).tolist(), arr.max(axis=1).tolist(), arr.max()]\n",
    "    \n",
    "    # Find the min values\n",
    "    min_val = [arr.min(axis=0).tolist(), arr.min(axis=1).tolist(), arr.min()]\n",
    "    \n",
    "    # Calculate the sum\n",
    "    sum_val = [arr.sum(axis=0).tolist(), arr.sum(axis=1).tolist(), arr.sum()]\n",
    "    \n",
    "    # Create the result dictionary\n",
    "    result = {\n",
    "        'mean': mean,\n",
    "        'variance': variance,\n",
    "        'standard deviation': std_dev,\n",
    "        'max': max_val,\n",
    "        'min': min_val,\n",
    "        'sum': sum_val\n",
    "    }\n",
    "    \n",
    "    return result\n",
    "\n",
    "# Example usage\n",
    "print(calculate([0,1,2,3,4,5,6,7,8]))\n"
   ]
  },
  {
   "cell_type": "code",
   "execution_count": null,
   "id": "48acb070-42d7-41be-9152-ed45356ba3e7",
   "metadata": {},
   "outputs": [],
   "source": []
  }
 ],
 "metadata": {
  "kernelspec": {
   "display_name": "Python [conda env:base] *",
   "language": "python",
   "name": "conda-base-py"
  },
  "language_info": {
   "codemirror_mode": {
    "name": "ipython",
    "version": 3
   },
   "file_extension": ".py",
   "mimetype": "text/x-python",
   "name": "python",
   "nbconvert_exporter": "python",
   "pygments_lexer": "ipython3",
   "version": "3.12.7"
  }
 },
 "nbformat": 4,
 "nbformat_minor": 5
}
